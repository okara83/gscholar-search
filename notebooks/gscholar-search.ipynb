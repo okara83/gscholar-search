{
 "cells": [
  {
   "cell_type": "code",
   "execution_count": 322,
   "id": "83752e0e",
   "metadata": {},
   "outputs": [],
   "source": [
    "from bs4 import BeautifulSoup\n",
    "import requests\n",
    "import re\n",
    "from datetime import datetime\n",
    "import json\n",
    "from serpapi import GoogleSearch, GoogleScholarSearch\n",
    "import os\n",
    "from urllib.parse import urlsplit, parse_qsl\n",
    "import pandas as pd"
   ]
  },
  {
   "cell_type": "code",
   "execution_count": 325,
   "id": "1803ee38",
   "metadata": {},
   "outputs": [],
   "source": [
    "class ScholarListener:\n",
    "    def __init__(self,query_list=None,save_to_json=True,save_to_csv=False,return_output_object=False,mauthors=None,affiliations=None,author_id=None,query=None):\n",
    "        self.query_list = query_list\n",
    "        self.return_output_object = return_output_object\n",
    "        self.save_to_json = save_to_json\n",
    "        self.save_to_csv = save_to_csv\n",
    "        self.mauthors = mauthors\n",
    "        self.affiliations=affiliations\n",
    "        self.author_id= author_id\n",
    "        self.query=query\n",
    "\n",
    "    def serpapi_scrape_organic_results(self):\n",
    "        params = {\n",
    "        \"api_key\": \"\",\n",
    "        \"engine\": \"google_scholar\",\n",
    "        \"q\": self.query,\n",
    "        }\n",
    "\n",
    "        search = GoogleScholarSearch(params)\n",
    "        results = search.get_dict()\n",
    "        outward= {}\n",
    "        # It looks a bit akward but the point is that you can grab everything you need in 2-3 lines of code as below.\n",
    "        for result in results['organic_results']:\n",
    "            try:\n",
    "                title= result['title']\n",
    "            except:\n",
    "                continue\n",
    "            try:\n",
    "                publication_info=result['publication_info']['summary']\n",
    "            except:\n",
    "                 publication_info=\"NA\"\n",
    "            try:\n",
    "                snippet=result['snippet']\n",
    "            except:\n",
    "                snippet=\"NA\"\n",
    "            try:\n",
    "                cited_by=result['inline_links']['cited_by']['link']\n",
    "            except:\n",
    "                cited_by=\"NA\"\n",
    "            try:\n",
    "                related_versions=result['inline_links']['related_pages_link']\n",
    "            except:\n",
    "                related_versions=\"NA\"\n",
    "\n",
    "\n",
    "            outward[title]={\n",
    "                  'title': title,\n",
    "                  'publication_info':publication_info,\n",
    "                  'snippet': snippet,\n",
    "                  'cited_by': cited_by,\n",
    "                  'related_versions': related_versions\n",
    "                    }\n",
    "        return outward\n",
    "\n",
    "    def serpapi_scrape_author_result(self):\n",
    "        params = {\n",
    "            \"api_key\": \"\",\n",
    "            \"engine\": \"google_scholar_author\",\n",
    "            \"author_id\": self.author_id,\n",
    "            \"hl\": \"en\",\n",
    "        }\n",
    "\n",
    "        search = GoogleScholarSearch(params)\n",
    "        results = search.get_dict()\n",
    "        print(results)\n",
    "        # Author info\n",
    "        print(results)\n",
    "        name = results['author']['name']\n",
    "        affiliations = results['author']['affiliations']\n",
    "        email = results['author']['email']\n",
    "        interests1 = results['author']['interests'][0]['title']\n",
    "        interests2 = results['author']['interests'][1]['title']\n",
    "\n",
    "        print('Author Info:')\n",
    "        print(f'{name}\\n{affiliations}\\n{email}\\n{interests1}\\n{interests2}\\n')\n",
    "\n",
    "              # Articles Results\n",
    "        for article in results['articles']:\n",
    "            article_title = article['title']\n",
    "            article_link = article['link']\n",
    "            article_authors = article['authors']\n",
    "            article_publication = article['publication']\n",
    "            cited_by = article['cited_by']['value']\n",
    "            cited_by_link = article['cited_by']['link']\n",
    "            article_year = article['year']\n",
    "            print('Articles Info:')\n",
    "            print(f\"Title: {article_title}\\nLink: {article_link}\\nAuthors: {article_authors}\\nPublication: {article_publication}\\nCited by: {cited_by}\\nCited by link: {cited_by_link}\\nPublication year: {article_year}\\n\")\n",
    "\n",
    "        # Cited By and Public Access Results\n",
    "        citations_all = results['cited_by']['table'][0]['citations']['all']\n",
    "        h_inedx_all = results['cited_by']['table'][1]['h_index']['all']\n",
    "        i10_index_all = results['cited_by']['table'][2]['i10_index']['all']\n",
    "\n",
    "        print('Citations Info:')\n",
    "        print(f'{citations_all}\\n{h_inedx_all}\\n{i10_index_all}\\n')\n",
    "        try:\n",
    "            public_access_link = results['public_access']['link']\n",
    "        except:\n",
    "            public_access_link = \"NA\"\n",
    "        try:\n",
    "            public_access_available_articles = results['public_access']['available']\n",
    "        except:\n",
    "            public_access_available_articles = \"NA\"\n",
    "\n",
    "\n",
    "        print('Public Access Info:')\n",
    "        print(f'{public_access_link}\\n{public_access_available_articles}\\n')\n",
    "\n",
    "        # Co-Authors Results\n",
    "        for authors in results['co_authors']:\n",
    "            print(authors)\n",
    "            author_name = authors['name']\n",
    "            try:\n",
    "                author_affiliations = authors['affiliations']\n",
    "            except:\n",
    "                author_affiliations = \"NA\"\n",
    "            try:\n",
    "                author_link = authors['link']\n",
    "            except:\n",
    "                author_link = \"NA\"\n",
    "\n",
    "            print('Co-Authour(s):')\n",
    "            print(f'{author_name}\\n{author_affiliations}\\n{author_link}\\n')\n",
    "        \n",
    "    def serpapi_author_profile(self):\n",
    "        params = {\n",
    "            \"api_key\": \"\",\n",
    "            \"engine\": \"google_scholar_profiles\",\n",
    "            \"hl\": \"en\",\n",
    "            \"mauthors\": self.mauthors,\n",
    "            \"affiliations\":self.affiliations\n",
    "        }\n",
    "\n",
    "        search = GoogleScholarSearch(params)\n",
    "    #     results = search.get_response()\n",
    "        results = search.get_dict()\n",
    "        outputs = {}\n",
    "        author_profiles=results[\"profiles\"]\n",
    "        for result in author_profiles:\n",
    "            try:\n",
    "                self.affiliations.strip()\n",
    "                if result[\"affiliations\"].strip().lower() ==f\"{self.affiliations}\".lower():\n",
    "                    outputs[result[\"name\"]]=result\n",
    "                else:\n",
    "                    continue\n",
    "            except:\n",
    "                outputs[result[\"name\"]]=result   \n",
    "        return outputs\n",
    "    \n",
    "    def scholar_search(self):\n",
    "        '''\n",
    "        query_list = [\"Sehanobish Corzo Kara\", \"Learning potentials of \n",
    "        quantum systems using deep neural networks\", \"2006.13297\" ] \n",
    "        '''\n",
    "        \n",
    "        scraped_time = datetime.now().strftime(\"%h-%d-%Y\")\n",
    "        output = {}\n",
    "        headers = {\"user-agent\": \"Mozilla/5.0 (Macintosh; Intel Mac OS X 12_3_1) AppleWebKit/601.3.9 (KHTML, like Gecko) Chrome/74.0.3729.169 Safari/537.36\" ,'referer':'https://www.google.com/'}\n",
    "#         headers = {'User-Agent':'Mozilla/5.0 (Macintosh; Intel Mac OS X 12_3_1) AppleWebKit/601.3.9 (KHTML, like Gecko) Version/9.0.2 Safari/601.3.9'}\n",
    "        ql = self.query_list\n",
    "        for query in ql:\n",
    "            output_list = []\n",
    "            url_1 = f'https://scholar.google.com/scholar?hl=en&as_sdt=0%2C5&q={query}&btnG='\n",
    "            url_2 = f'https://scholar.google.com/scholar?start=10&q={query}&hl=en&as_sdt=0,31'\n",
    "            url_3 = f'https://scholar.google.com/scholar?start=20&q={query}&hl=en&as_sdt=0,31'\n",
    "            urls = [url_1,url_2,url_3] # first three search result pages\n",
    "            for url in urls:\n",
    "                response=requests.get(url,headers=headers)\n",
    "                statuscode=response.status_code\n",
    "                if statuscode != 200:\n",
    "                    raise Exception(f\"requests response for url query: {url} returned {statuscode} response -- check google hasn't blocked your IP\")\n",
    "                    return\n",
    "                soup=BeautifulSoup(response.content,'lxml')\n",
    "                links = soup.find_all(\"h3\", class_=\"gs_rt\")\n",
    "                print(links)\n",
    "                for j in links:\n",
    "                    the_url = re.search(\"href=\\\"(.*?)\\\"\\s\",str(j),re.DOTALL)[1]\n",
    "                    output_list.append(the_url)\n",
    "                    prin(the_url)\n",
    "            output[query] = output_list\n",
    "        \n",
    "        #object output and saving results\n",
    "        if self.save_to_json == True:\n",
    "            name_concat_queries = \"_\".join(self.query_list)\n",
    "            with open(f\"{name_concat_queries}--{scraped_time}\",\"w\") as file:\n",
    "                json.dump(output,file)\n",
    "        \n",
    "        if self.save_to_csv == True:\n",
    "            import pandas as pd\n",
    "            for l in output.keys():\n",
    "                df = pd.DataFrame.from_dict(output[l])\n",
    "                df.to_csv(f\"{l}.csv\")\n",
    "                \n",
    "        if self.return_output_object == True:\n",
    "            return output\n",
    "        else:\n",
    "            return            \n",
    "\n"
   ]
  },
  {
   "cell_type": "code",
   "execution_count": 326,
   "id": "3598aed9",
   "metadata": {},
   "outputs": [
    {
     "name": "stdout",
     "output_type": "stream",
     "text": [
      "https://serpapi.com/search\n",
      "{'search_metadata': {'id': '6262787bc573d51ab2aace82', 'status': 'Success', 'json_endpoint': 'https://serpapi.com/searches/9ccb22f125107f67/6262787bc573d51ab2aace82.json', 'created_at': '2022-04-22 09:42:19 UTC', 'processed_at': '2022-04-22 09:42:19 UTC', 'google_scholar_author_url': 'https://scholar.google.com/citations?user=IzsyeRAAAAAJ&hl=en', 'raw_html_file': 'https://serpapi.com/searches/9ccb22f125107f67/6262787bc573d51ab2aace82.html', 'total_time_taken': 1.8}, 'search_parameters': {'engine': 'google_scholar_author', 'author_id': 'IzsyeRAAAAAJ', 'hl': 'en'}, 'author': {'name': 'Onur Kara', 'affiliations': 'Hindsight Technology Solutions', 'email': 'Verified email at hindsightsolutions.net', 'website': 'http://mlokphys.com.s3-website-us-east-1.amazonaws.com/', 'interests': [{'title': 'network science', 'link': 'https://scholar.google.com/citations?view_op=search_authors&hl=en&mauthors=label:network_science', 'serpapi_link': 'https://serpapi.com/search.json?engine=google_scholar_profiles&hl=en&mauthors=label%3Anetwork_science'}, {'title': 'machine learning', 'link': 'https://scholar.google.com/citations?view_op=search_authors&hl=en&mauthors=label:machine_learning', 'serpapi_link': 'https://serpapi.com/search.json?engine=google_scholar_profiles&hl=en&mauthors=label%3Amachine_learning'}, {'title': 'statistical physics', 'link': 'https://scholar.google.com/citations?view_op=search_authors&hl=en&mauthors=label:statistical_physics', 'serpapi_link': 'https://serpapi.com/search.json?engine=google_scholar_profiles&hl=en&mauthors=label%3Astatistical_physics'}, {'title': 'data science', 'link': 'https://scholar.google.com/citations?view_op=search_authors&hl=en&mauthors=label:data_science', 'serpapi_link': 'https://serpapi.com/search.json?engine=google_scholar_profiles&hl=en&mauthors=label%3Adata_science'}, {'title': 'computational science', 'link': 'https://scholar.google.com/citations?view_op=search_authors&hl=en&mauthors=label:computational_science', 'serpapi_link': 'https://serpapi.com/search.json?engine=google_scholar_profiles&hl=en&mauthors=label%3Acomputational_science'}], 'thumbnail': 'https://scholar.googleusercontent.com/citations?view_op=view_photo&user=IzsyeRAAAAAJ&citpid=2'}, 'articles': [{'title': 'Learning potentials of quantum systems using deep neural networks', 'link': 'https://scholar.google.com/citations?view_op=view_citation&hl=en&user=IzsyeRAAAAAJ&citation_for_view=IzsyeRAAAAAJ:edDO8Oi4QzsC', 'citation_id': 'IzsyeRAAAAAJ:edDO8Oi4QzsC', 'authors': 'A Sehanobish, HH Corzo, O Kara, D van Dijk', 'publication': 'Proceedings of the AAAI 2021 Spring Symposium on Combining Artificial …, 2020', 'cited_by': {'value': 6, 'link': 'https://scholar.google.com/scholar?oi=bibs&hl=en&cites=11804469877329258063', 'serpapi_link': 'https://serpapi.com/search.json?cites=11804469877329258063&engine=google_scholar&hl=en', 'cites_id': '11804469877329258063'}, 'year': '2020'}, {'title': 'Fine-tuning Vision Transformers for the Prediction of State Variables in Ising Models', 'link': 'https://scholar.google.com/citations?view_op=view_citation&hl=en&user=IzsyeRAAAAAJ&citation_for_view=IzsyeRAAAAAJ:ruyezt5ZtCIC', 'citation_id': 'IzsyeRAAAAAJ:ruyezt5ZtCIC', 'authors': 'O Kara, A Sehanobish, HH Corzo', 'publication': '35th Conference on Neural Information Processing Systems, Fourth Workshop on …, 2021', 'cited_by': {'value': 1, 'link': 'https://scholar.google.com/scholar?oi=bibs&hl=en&cites=14144613611479670813', 'serpapi_link': 'https://serpapi.com/search.json?cites=14144613611479670813&engine=google_scholar&hl=en', 'cites_id': '14144613611479670813'}, 'year': '2021'}, {'title': 'Hydromagnetic Dynamics and Magnetic Field Enhancement in a Turbulent Spherical Couette Experiment', 'link': 'https://scholar.google.com/citations?view_op=view_citation&hl=en&user=IzsyeRAAAAAJ&citation_for_view=IzsyeRAAAAAJ:HbR8gkJAVGIC', 'citation_id': 'IzsyeRAAAAAJ:HbR8gkJAVGIC', 'authors': 'D Stone, M Adams, O Kara, DP Lathrop', 'publication': 'APS Division of Fluid Dynamics, 2015', 'cited_by': {'value': 1, 'link': 'https://scholar.google.com/scholar?oi=bibs&hl=en&cites=2729423240461249208', 'serpapi_link': 'https://serpapi.com/search.json?cites=2729423240461249208&engine=google_scholar&hl=en', 'cites_id': '2729423240461249208'}, 'year': '2015'}, {'title': 'A Survey of Relation Extraction Techniques Using Hybrid Classical and State of the Art Methods', 'link': 'https://scholar.google.com/citations?view_op=view_citation&hl=en&user=IzsyeRAAAAAJ&citation_for_view=IzsyeRAAAAAJ:Ug5p-4gJ2f0C', 'citation_id': 'IzsyeRAAAAAJ:Ug5p-4gJ2f0C', 'authors': 'O Kara, F Chen, D Hug, T Jenkins, S Safari, S Berger', 'publication': 'Proceedings of the BioCreative VII Challenge Evaluation Workshop 7, 358, 2021', 'cited_by': {'value': None, 'link': 'https://scholar.google.com'}, 'year': '2021'}, {'title': 'Learning Full Configuration Interaction Electron Correlations with Deep Learning', 'link': 'https://scholar.google.com/citations?view_op=view_citation&hl=en&user=IzsyeRAAAAAJ&citation_for_view=IzsyeRAAAAAJ:XoXfffV-tXoC', 'citation_id': 'IzsyeRAAAAAJ:XoXfffV-tXoC', 'authors': 'HH Corzo, A Sehanobish, O Kara', 'publication': '35th Conference on Neural Information Processing Systems, Fourth Workshop on …, 2021', 'cited_by': {'value': None, 'link': 'https://scholar.google.com'}, 'year': '2021'}, {'title': 'Application of the Quantum Potential Neural Network to multi-electronic atoms', 'link': 'https://scholar.google.com/citations?view_op=view_citation&hl=en&user=IzsyeRAAAAAJ&citation_for_view=IzsyeRAAAAAJ:q3CdL3IzO_QC', 'citation_id': 'IzsyeRAAAAAJ:q3CdL3IzO_QC', 'authors': 'HH Corzo, A Sehanobish, O Kara', 'publication': 'arXiv preprint arXiv:2106.08138, 2021', 'cited_by': {'value': None, 'link': 'https://scholar.google.com'}, 'year': '2021'}, {'title': \"Magnetic Field Gain in a Laboratory Model of the Earth's Outer Core\", 'link': 'https://scholar.google.com/citations?view_op=view_citation&hl=en&user=IzsyeRAAAAAJ&citation_for_view=IzsyeRAAAAAJ:eq2jaN3J8jMC', 'citation_id': 'IzsyeRAAAAAJ:eq2jaN3J8jMC', 'authors': 'DP Lathrop, D Stone, MM Adams, O Kara', 'publication': 'AGU Fall Meeting Abstracts 2015, P33D-08, 2015', 'cited_by': {'value': None, 'link': 'https://scholar.google.com'}, 'year': '2015'}, {'title': 'Electrification of Shaken Granular Flows as a Model of Natural Storm Charging', 'link': 'https://scholar.google.com/citations?view_op=view_citation&hl=en&user=IzsyeRAAAAAJ&citation_for_view=IzsyeRAAAAAJ:isC4tDSrTZIC', 'citation_id': 'IzsyeRAAAAAJ:isC4tDSrTZIC', 'authors': 'O Kara, F Nordsiek, DP Lathrop', 'publication': 'AGU Fall Meeting Abstracts 2015, AE31B-0441, 2015', 'cited_by': {'value': None, 'link': 'https://scholar.google.com'}, 'year': '2015'}, {'title': 'Electrification of Shaken Granular Media', 'link': 'https://scholar.google.com/citations?view_op=view_citation&hl=en&user=IzsyeRAAAAAJ&citation_for_view=IzsyeRAAAAAJ:N5tVd3kTz84C', 'citation_id': 'IzsyeRAAAAAJ:N5tVd3kTz84C', 'authors': 'O Kara, F Nordsiek, D Lathrop', 'publication': 'APS Division of Fluid Dynamics Meeting Abstracts, L10. 009, 2015', 'cited_by': {'value': None, 'link': 'https://scholar.google.com'}, 'year': '2015'}, {'title': 'Base Composition Changes Indicate Biased Gene Conversion is a Major Factor in the Evolution of the Fam53A gene', 'link': 'https://scholar.google.com/citations?view_op=view_citation&hl=en&user=IzsyeRAAAAAJ&citation_for_view=IzsyeRAAAAAJ:xtoqd-5pKcoC', 'citation_id': 'IzsyeRAAAAAJ:xtoqd-5pKcoC', 'authors': 'I Genecin, O Kara, JT Laitman, JS Reidenberg, L Skrabanek, ...', 'publication': 'The FASEB Journal 24, 2010', 'cited_by': {'value': None, 'link': 'https://scholar.google.com'}, 'year': '2010'}], 'cited_by': {'table': [{'citations': {'all': 8, 'since_2017': 8}}, {'h_index': {'all': 1, 'since_2017': 1}}, {'i10_index': {'all': 0, 'since_2017': 0}}], 'graph': [{'year': 2019, 'citations': 1}, {'year': 2020, 'citations': 5}, {'year': 2021, 'citations': 2}]}, 'co_authors': [{'name': 'Arijit Sehanobish', 'link': 'https://scholar.google.com/citations?user=MEby6-QAAAAJ&hl=en', 'serpapi_link': 'https://serpapi.com/search.json?author_id=MEby6-QAAAAJ&engine=google_scholar_author&hl=en', 'author_id': 'MEby6-QAAAAJ', 'affiliations': 'Postdoctoral Associate, Yale School of Medicine', 'email': 'Verified email at yale.edu', 'thumbnail': 'https://scholar.googleusercontent.com/citations?view_op=small_photo&user=MEby6-QAAAAJ&citpid=2'}, {'name': 'H. H. CORZO', 'link': 'https://scholar.google.com/citations?user=5WLV6O4AAAAJ&hl=en', 'serpapi_link': 'https://serpapi.com/search.json?author_id=5WLV6O4AAAAJ&engine=google_scholar_author&hl=en', 'author_id': '5WLV6O4AAAAJ', 'thumbnail': 'https://scholar.google.com/citations/images/avatar_scholar_56.png'}]}\n",
      "{'search_metadata': {'id': '6262787bc573d51ab2aace82', 'status': 'Success', 'json_endpoint': 'https://serpapi.com/searches/9ccb22f125107f67/6262787bc573d51ab2aace82.json', 'created_at': '2022-04-22 09:42:19 UTC', 'processed_at': '2022-04-22 09:42:19 UTC', 'google_scholar_author_url': 'https://scholar.google.com/citations?user=IzsyeRAAAAAJ&hl=en', 'raw_html_file': 'https://serpapi.com/searches/9ccb22f125107f67/6262787bc573d51ab2aace82.html', 'total_time_taken': 1.8}, 'search_parameters': {'engine': 'google_scholar_author', 'author_id': 'IzsyeRAAAAAJ', 'hl': 'en'}, 'author': {'name': 'Onur Kara', 'affiliations': 'Hindsight Technology Solutions', 'email': 'Verified email at hindsightsolutions.net', 'website': 'http://mlokphys.com.s3-website-us-east-1.amazonaws.com/', 'interests': [{'title': 'network science', 'link': 'https://scholar.google.com/citations?view_op=search_authors&hl=en&mauthors=label:network_science', 'serpapi_link': 'https://serpapi.com/search.json?engine=google_scholar_profiles&hl=en&mauthors=label%3Anetwork_science'}, {'title': 'machine learning', 'link': 'https://scholar.google.com/citations?view_op=search_authors&hl=en&mauthors=label:machine_learning', 'serpapi_link': 'https://serpapi.com/search.json?engine=google_scholar_profiles&hl=en&mauthors=label%3Amachine_learning'}, {'title': 'statistical physics', 'link': 'https://scholar.google.com/citations?view_op=search_authors&hl=en&mauthors=label:statistical_physics', 'serpapi_link': 'https://serpapi.com/search.json?engine=google_scholar_profiles&hl=en&mauthors=label%3Astatistical_physics'}, {'title': 'data science', 'link': 'https://scholar.google.com/citations?view_op=search_authors&hl=en&mauthors=label:data_science', 'serpapi_link': 'https://serpapi.com/search.json?engine=google_scholar_profiles&hl=en&mauthors=label%3Adata_science'}, {'title': 'computational science', 'link': 'https://scholar.google.com/citations?view_op=search_authors&hl=en&mauthors=label:computational_science', 'serpapi_link': 'https://serpapi.com/search.json?engine=google_scholar_profiles&hl=en&mauthors=label%3Acomputational_science'}], 'thumbnail': 'https://scholar.googleusercontent.com/citations?view_op=view_photo&user=IzsyeRAAAAAJ&citpid=2'}, 'articles': [{'title': 'Learning potentials of quantum systems using deep neural networks', 'link': 'https://scholar.google.com/citations?view_op=view_citation&hl=en&user=IzsyeRAAAAAJ&citation_for_view=IzsyeRAAAAAJ:edDO8Oi4QzsC', 'citation_id': 'IzsyeRAAAAAJ:edDO8Oi4QzsC', 'authors': 'A Sehanobish, HH Corzo, O Kara, D van Dijk', 'publication': 'Proceedings of the AAAI 2021 Spring Symposium on Combining Artificial …, 2020', 'cited_by': {'value': 6, 'link': 'https://scholar.google.com/scholar?oi=bibs&hl=en&cites=11804469877329258063', 'serpapi_link': 'https://serpapi.com/search.json?cites=11804469877329258063&engine=google_scholar&hl=en', 'cites_id': '11804469877329258063'}, 'year': '2020'}, {'title': 'Fine-tuning Vision Transformers for the Prediction of State Variables in Ising Models', 'link': 'https://scholar.google.com/citations?view_op=view_citation&hl=en&user=IzsyeRAAAAAJ&citation_for_view=IzsyeRAAAAAJ:ruyezt5ZtCIC', 'citation_id': 'IzsyeRAAAAAJ:ruyezt5ZtCIC', 'authors': 'O Kara, A Sehanobish, HH Corzo', 'publication': '35th Conference on Neural Information Processing Systems, Fourth Workshop on …, 2021', 'cited_by': {'value': 1, 'link': 'https://scholar.google.com/scholar?oi=bibs&hl=en&cites=14144613611479670813', 'serpapi_link': 'https://serpapi.com/search.json?cites=14144613611479670813&engine=google_scholar&hl=en', 'cites_id': '14144613611479670813'}, 'year': '2021'}, {'title': 'Hydromagnetic Dynamics and Magnetic Field Enhancement in a Turbulent Spherical Couette Experiment', 'link': 'https://scholar.google.com/citations?view_op=view_citation&hl=en&user=IzsyeRAAAAAJ&citation_for_view=IzsyeRAAAAAJ:HbR8gkJAVGIC', 'citation_id': 'IzsyeRAAAAAJ:HbR8gkJAVGIC', 'authors': 'D Stone, M Adams, O Kara, DP Lathrop', 'publication': 'APS Division of Fluid Dynamics, 2015', 'cited_by': {'value': 1, 'link': 'https://scholar.google.com/scholar?oi=bibs&hl=en&cites=2729423240461249208', 'serpapi_link': 'https://serpapi.com/search.json?cites=2729423240461249208&engine=google_scholar&hl=en', 'cites_id': '2729423240461249208'}, 'year': '2015'}, {'title': 'A Survey of Relation Extraction Techniques Using Hybrid Classical and State of the Art Methods', 'link': 'https://scholar.google.com/citations?view_op=view_citation&hl=en&user=IzsyeRAAAAAJ&citation_for_view=IzsyeRAAAAAJ:Ug5p-4gJ2f0C', 'citation_id': 'IzsyeRAAAAAJ:Ug5p-4gJ2f0C', 'authors': 'O Kara, F Chen, D Hug, T Jenkins, S Safari, S Berger', 'publication': 'Proceedings of the BioCreative VII Challenge Evaluation Workshop 7, 358, 2021', 'cited_by': {'value': None, 'link': 'https://scholar.google.com'}, 'year': '2021'}, {'title': 'Learning Full Configuration Interaction Electron Correlations with Deep Learning', 'link': 'https://scholar.google.com/citations?view_op=view_citation&hl=en&user=IzsyeRAAAAAJ&citation_for_view=IzsyeRAAAAAJ:XoXfffV-tXoC', 'citation_id': 'IzsyeRAAAAAJ:XoXfffV-tXoC', 'authors': 'HH Corzo, A Sehanobish, O Kara', 'publication': '35th Conference on Neural Information Processing Systems, Fourth Workshop on …, 2021', 'cited_by': {'value': None, 'link': 'https://scholar.google.com'}, 'year': '2021'}, {'title': 'Application of the Quantum Potential Neural Network to multi-electronic atoms', 'link': 'https://scholar.google.com/citations?view_op=view_citation&hl=en&user=IzsyeRAAAAAJ&citation_for_view=IzsyeRAAAAAJ:q3CdL3IzO_QC', 'citation_id': 'IzsyeRAAAAAJ:q3CdL3IzO_QC', 'authors': 'HH Corzo, A Sehanobish, O Kara', 'publication': 'arXiv preprint arXiv:2106.08138, 2021', 'cited_by': {'value': None, 'link': 'https://scholar.google.com'}, 'year': '2021'}, {'title': \"Magnetic Field Gain in a Laboratory Model of the Earth's Outer Core\", 'link': 'https://scholar.google.com/citations?view_op=view_citation&hl=en&user=IzsyeRAAAAAJ&citation_for_view=IzsyeRAAAAAJ:eq2jaN3J8jMC', 'citation_id': 'IzsyeRAAAAAJ:eq2jaN3J8jMC', 'authors': 'DP Lathrop, D Stone, MM Adams, O Kara', 'publication': 'AGU Fall Meeting Abstracts 2015, P33D-08, 2015', 'cited_by': {'value': None, 'link': 'https://scholar.google.com'}, 'year': '2015'}, {'title': 'Electrification of Shaken Granular Flows as a Model of Natural Storm Charging', 'link': 'https://scholar.google.com/citations?view_op=view_citation&hl=en&user=IzsyeRAAAAAJ&citation_for_view=IzsyeRAAAAAJ:isC4tDSrTZIC', 'citation_id': 'IzsyeRAAAAAJ:isC4tDSrTZIC', 'authors': 'O Kara, F Nordsiek, DP Lathrop', 'publication': 'AGU Fall Meeting Abstracts 2015, AE31B-0441, 2015', 'cited_by': {'value': None, 'link': 'https://scholar.google.com'}, 'year': '2015'}, {'title': 'Electrification of Shaken Granular Media', 'link': 'https://scholar.google.com/citations?view_op=view_citation&hl=en&user=IzsyeRAAAAAJ&citation_for_view=IzsyeRAAAAAJ:N5tVd3kTz84C', 'citation_id': 'IzsyeRAAAAAJ:N5tVd3kTz84C', 'authors': 'O Kara, F Nordsiek, D Lathrop', 'publication': 'APS Division of Fluid Dynamics Meeting Abstracts, L10. 009, 2015', 'cited_by': {'value': None, 'link': 'https://scholar.google.com'}, 'year': '2015'}, {'title': 'Base Composition Changes Indicate Biased Gene Conversion is a Major Factor in the Evolution of the Fam53A gene', 'link': 'https://scholar.google.com/citations?view_op=view_citation&hl=en&user=IzsyeRAAAAAJ&citation_for_view=IzsyeRAAAAAJ:xtoqd-5pKcoC', 'citation_id': 'IzsyeRAAAAAJ:xtoqd-5pKcoC', 'authors': 'I Genecin, O Kara, JT Laitman, JS Reidenberg, L Skrabanek, ...', 'publication': 'The FASEB Journal 24, 2010', 'cited_by': {'value': None, 'link': 'https://scholar.google.com'}, 'year': '2010'}], 'cited_by': {'table': [{'citations': {'all': 8, 'since_2017': 8}}, {'h_index': {'all': 1, 'since_2017': 1}}, {'i10_index': {'all': 0, 'since_2017': 0}}], 'graph': [{'year': 2019, 'citations': 1}, {'year': 2020, 'citations': 5}, {'year': 2021, 'citations': 2}]}, 'co_authors': [{'name': 'Arijit Sehanobish', 'link': 'https://scholar.google.com/citations?user=MEby6-QAAAAJ&hl=en', 'serpapi_link': 'https://serpapi.com/search.json?author_id=MEby6-QAAAAJ&engine=google_scholar_author&hl=en', 'author_id': 'MEby6-QAAAAJ', 'affiliations': 'Postdoctoral Associate, Yale School of Medicine', 'email': 'Verified email at yale.edu', 'thumbnail': 'https://scholar.googleusercontent.com/citations?view_op=small_photo&user=MEby6-QAAAAJ&citpid=2'}, {'name': 'H. H. CORZO', 'link': 'https://scholar.google.com/citations?user=5WLV6O4AAAAJ&hl=en', 'serpapi_link': 'https://serpapi.com/search.json?author_id=5WLV6O4AAAAJ&engine=google_scholar_author&hl=en', 'author_id': '5WLV6O4AAAAJ', 'thumbnail': 'https://scholar.google.com/citations/images/avatar_scholar_56.png'}]}\n",
      "Author Info:\n",
      "Onur Kara\n",
      "Hindsight Technology Solutions\n",
      "Verified email at hindsightsolutions.net\n",
      "network science\n",
      "machine learning\n",
      "\n",
      "Articles Info:\n",
      "Title: Learning potentials of quantum systems using deep neural networks\n",
      "Link: https://scholar.google.com/citations?view_op=view_citation&hl=en&user=IzsyeRAAAAAJ&citation_for_view=IzsyeRAAAAAJ:edDO8Oi4QzsC\n",
      "Authors: A Sehanobish, HH Corzo, O Kara, D van Dijk\n",
      "Publication: Proceedings of the AAAI 2021 Spring Symposium on Combining Artificial …, 2020\n",
      "Cited by: 6\n",
      "Cited by link: https://scholar.google.com/scholar?oi=bibs&hl=en&cites=11804469877329258063\n",
      "Publication year: 2020\n",
      "\n",
      "Articles Info:\n",
      "Title: Fine-tuning Vision Transformers for the Prediction of State Variables in Ising Models\n",
      "Link: https://scholar.google.com/citations?view_op=view_citation&hl=en&user=IzsyeRAAAAAJ&citation_for_view=IzsyeRAAAAAJ:ruyezt5ZtCIC\n",
      "Authors: O Kara, A Sehanobish, HH Corzo\n",
      "Publication: 35th Conference on Neural Information Processing Systems, Fourth Workshop on …, 2021\n",
      "Cited by: 1\n",
      "Cited by link: https://scholar.google.com/scholar?oi=bibs&hl=en&cites=14144613611479670813\n",
      "Publication year: 2021\n",
      "\n",
      "Articles Info:\n",
      "Title: Hydromagnetic Dynamics and Magnetic Field Enhancement in a Turbulent Spherical Couette Experiment\n",
      "Link: https://scholar.google.com/citations?view_op=view_citation&hl=en&user=IzsyeRAAAAAJ&citation_for_view=IzsyeRAAAAAJ:HbR8gkJAVGIC\n",
      "Authors: D Stone, M Adams, O Kara, DP Lathrop\n",
      "Publication: APS Division of Fluid Dynamics, 2015\n",
      "Cited by: 1\n",
      "Cited by link: https://scholar.google.com/scholar?oi=bibs&hl=en&cites=2729423240461249208\n",
      "Publication year: 2015\n",
      "\n",
      "Articles Info:\n",
      "Title: A Survey of Relation Extraction Techniques Using Hybrid Classical and State of the Art Methods\n",
      "Link: https://scholar.google.com/citations?view_op=view_citation&hl=en&user=IzsyeRAAAAAJ&citation_for_view=IzsyeRAAAAAJ:Ug5p-4gJ2f0C\n",
      "Authors: O Kara, F Chen, D Hug, T Jenkins, S Safari, S Berger\n",
      "Publication: Proceedings of the BioCreative VII Challenge Evaluation Workshop 7, 358, 2021\n",
      "Cited by: None\n",
      "Cited by link: https://scholar.google.com\n",
      "Publication year: 2021\n",
      "\n",
      "Articles Info:\n",
      "Title: Learning Full Configuration Interaction Electron Correlations with Deep Learning\n",
      "Link: https://scholar.google.com/citations?view_op=view_citation&hl=en&user=IzsyeRAAAAAJ&citation_for_view=IzsyeRAAAAAJ:XoXfffV-tXoC\n",
      "Authors: HH Corzo, A Sehanobish, O Kara\n",
      "Publication: 35th Conference on Neural Information Processing Systems, Fourth Workshop on …, 2021\n",
      "Cited by: None\n",
      "Cited by link: https://scholar.google.com\n",
      "Publication year: 2021\n",
      "\n",
      "Articles Info:\n",
      "Title: Application of the Quantum Potential Neural Network to multi-electronic atoms\n",
      "Link: https://scholar.google.com/citations?view_op=view_citation&hl=en&user=IzsyeRAAAAAJ&citation_for_view=IzsyeRAAAAAJ:q3CdL3IzO_QC\n",
      "Authors: HH Corzo, A Sehanobish, O Kara\n",
      "Publication: arXiv preprint arXiv:2106.08138, 2021\n",
      "Cited by: None\n",
      "Cited by link: https://scholar.google.com\n",
      "Publication year: 2021\n",
      "\n",
      "Articles Info:\n",
      "Title: Magnetic Field Gain in a Laboratory Model of the Earth's Outer Core\n",
      "Link: https://scholar.google.com/citations?view_op=view_citation&hl=en&user=IzsyeRAAAAAJ&citation_for_view=IzsyeRAAAAAJ:eq2jaN3J8jMC\n",
      "Authors: DP Lathrop, D Stone, MM Adams, O Kara\n",
      "Publication: AGU Fall Meeting Abstracts 2015, P33D-08, 2015\n",
      "Cited by: None\n",
      "Cited by link: https://scholar.google.com\n",
      "Publication year: 2015\n",
      "\n",
      "Articles Info:\n",
      "Title: Electrification of Shaken Granular Flows as a Model of Natural Storm Charging\n",
      "Link: https://scholar.google.com/citations?view_op=view_citation&hl=en&user=IzsyeRAAAAAJ&citation_for_view=IzsyeRAAAAAJ:isC4tDSrTZIC\n",
      "Authors: O Kara, F Nordsiek, DP Lathrop\n",
      "Publication: AGU Fall Meeting Abstracts 2015, AE31B-0441, 2015\n",
      "Cited by: None\n",
      "Cited by link: https://scholar.google.com\n",
      "Publication year: 2015\n",
      "\n",
      "Articles Info:\n",
      "Title: Electrification of Shaken Granular Media\n",
      "Link: https://scholar.google.com/citations?view_op=view_citation&hl=en&user=IzsyeRAAAAAJ&citation_for_view=IzsyeRAAAAAJ:N5tVd3kTz84C\n",
      "Authors: O Kara, F Nordsiek, D Lathrop\n",
      "Publication: APS Division of Fluid Dynamics Meeting Abstracts, L10. 009, 2015\n",
      "Cited by: None\n",
      "Cited by link: https://scholar.google.com\n",
      "Publication year: 2015\n",
      "\n",
      "Articles Info:\n",
      "Title: Base Composition Changes Indicate Biased Gene Conversion is a Major Factor in the Evolution of the Fam53A gene\n",
      "Link: https://scholar.google.com/citations?view_op=view_citation&hl=en&user=IzsyeRAAAAAJ&citation_for_view=IzsyeRAAAAAJ:xtoqd-5pKcoC\n",
      "Authors: I Genecin, O Kara, JT Laitman, JS Reidenberg, L Skrabanek, ...\n",
      "Publication: The FASEB Journal 24, 2010\n",
      "Cited by: None\n",
      "Cited by link: https://scholar.google.com\n",
      "Publication year: 2010\n",
      "\n",
      "Citations Info:\n",
      "8\n",
      "1\n",
      "0\n",
      "\n",
      "Public Access Info:\n",
      "NA\n",
      "NA\n",
      "\n",
      "{'name': 'Arijit Sehanobish', 'link': 'https://scholar.google.com/citations?user=MEby6-QAAAAJ&hl=en', 'serpapi_link': 'https://serpapi.com/search.json?author_id=MEby6-QAAAAJ&engine=google_scholar_author&hl=en', 'author_id': 'MEby6-QAAAAJ', 'affiliations': 'Postdoctoral Associate, Yale School of Medicine', 'email': 'Verified email at yale.edu', 'thumbnail': 'https://scholar.googleusercontent.com/citations?view_op=small_photo&user=MEby6-QAAAAJ&citpid=2'}\n",
      "Co-Authour(s):\n",
      "Arijit Sehanobish\n",
      "Postdoctoral Associate, Yale School of Medicine\n",
      "https://scholar.google.com/citations?user=MEby6-QAAAAJ&hl=en\n",
      "\n",
      "{'name': 'H. H. CORZO', 'link': 'https://scholar.google.com/citations?user=5WLV6O4AAAAJ&hl=en', 'serpapi_link': 'https://serpapi.com/search.json?author_id=5WLV6O4AAAAJ&engine=google_scholar_author&hl=en', 'author_id': '5WLV6O4AAAAJ', 'thumbnail': 'https://scholar.google.com/citations/images/avatar_scholar_56.png'}\n",
      "Co-Authour(s):\n",
      "H. H. CORZO\n",
      "NA\n",
      "https://scholar.google.com/citations?user=5WLV6O4AAAAJ&hl=en\n",
      "\n"
     ]
    }
   ],
   "source": [
    "p=ScholarListener()\n",
    "p.author_id=\"IzsyeRAAAAAJ\"\n",
    "p.mauthor= \"kara, onur\"\n",
    "p.serpapi_scrape_author_result()\n"
   ]
  },
  {
   "cell_type": "code",
   "execution_count": 319,
   "id": "6e3a32d7",
   "metadata": {},
   "outputs": [
    {
     "name": "stdout",
     "output_type": "stream",
     "text": [
      "https://serpapi.com/search\n"
     ]
    },
    {
     "data": {
      "text/plain": [
       "{'Learning potentials of quantum systems using deep neural networks': {'title': 'Learning potentials of quantum systems using deep neural networks',\n",
       "  'publication_info': 'A Sehanobish, HH Corzo, O Kara… - arXiv preprint arXiv …, 2020 - arxiv.org',\n",
       "  'snippet': 'Attempts to apply Neural Networks (NN) to a wide range of research problems have been ubiquitous and plentiful in recent literature. Particularly, the use of deep NNs for understanding …',\n",
       "  'cited_by': 'https://scholar.google.com/scholar?cites=11804469877329258063&as_sdt=5,36&sciodt=0,36&hl=en',\n",
       "  'related_versions': 'https://scholar.google.com/scholar?q=related:T2YCiM_m0aMJ:scholar.google.com/&scioq=Sehanobish+Corzo+Kara&hl=en&as_sdt=0,36'},\n",
       " 'Fine-tuning Vision Transformers for the Prediction of State Variables in Ising Models': {'title': 'Fine-tuning Vision Transformers for the Prediction of State Variables in Ising Models',\n",
       "  'publication_info': 'O Kara, A Sehanobish, HH Corzo - arXiv preprint arXiv:2109.13925, 2021 - arxiv.org',\n",
       "  'snippet': 'Transformers are state-of-the-art deep learning models that are composed of stacked attention and point-wise, fully connected layers designed for handling sequential data. …',\n",
       "  'cited_by': 'https://scholar.google.com/scholar?cites=14144613611479670813&as_sdt=5,36&sciodt=0,36&hl=en',\n",
       "  'related_versions': 'https://scholar.google.com/scholar?q=related:HaBmZSPDS8QJ:scholar.google.com/&scioq=Sehanobish+Corzo+Kara&hl=en&as_sdt=0,36'},\n",
       " 'Application of the Quantum Potential Neural Network to multi-electronic atoms': {'title': 'Application of the Quantum Potential Neural Network to multi-electronic atoms',\n",
       "  'publication_info': 'HH Corzo, A Sehanobish, O Kara - arXiv preprint arXiv:2106.08138, 2021 - arxiv.org',\n",
       "  'snippet': 'In this report, the application of the Quantum Potential Neural Network (QPNN) framework to many electron atomic systems is presented. For this study, full configuration interaction (FCI) …',\n",
       "  'cited_by': 'NA',\n",
       "  'related_versions': 'https://scholar.google.com/scholar?q=related:BbCbqVJC0rQJ:scholar.google.com/&scioq=Sehanobish+Corzo+Kara&hl=en&as_sdt=0,36'},\n",
       " 'Learning Full Configuration Interaction Electron Correlations with Deep Learning': {'title': 'Learning Full Configuration Interaction Electron Correlations with Deep Learning',\n",
       "  'publication_info': 'HH Corzo, A Sehanobish, O Kara - ml4physicalsciences.github.io',\n",
       "  'snippet': 'In this report, we present a deep learning framework termed the Electron Correlation Potential Neural Network (eCPNN) that can learn succinct and compact potential functions. These …',\n",
       "  'cited_by': 'NA',\n",
       "  'related_versions': 'https://scholar.google.com/scholar?q=related:mh2XCm7p1YYJ:scholar.google.com/&scioq=Sehanobish+Corzo+Kara&hl=en&as_sdt=0,36'},\n",
       " 'Deep Learning Quantum States for Hamiltonian Estimation': {'title': 'Deep Learning Quantum States for Hamiltonian Estimation',\n",
       "  'publication_info': 'X Ma, ZC Tu, SJ Ran - Chinese Physics Letters, 2021 - iopscience.iop.org',\n",
       "  'snippet': 'Human experts cannot efficiently access physical information of a quantum many-body states by simply\" reading\" its coefficients, but have to reply on the previous knowledge such as …',\n",
       "  'cited_by': 'https://scholar.google.com/scholar?cites=13935163193403524492&as_sdt=5,36&sciodt=0,36&hl=en',\n",
       "  'related_versions': 'https://scholar.google.com/scholar?q=related:jEXqvRelY8EJ:scholar.google.com/&scioq=Sehanobish+Corzo+Kara&hl=en&as_sdt=0,36'},\n",
       " 'Predicting quantum potentials by deep neural network and metropolis sampling': {'title': 'Predicting quantum potentials by deep neural network and metropolis sampling',\n",
       "  'publication_info': 'R Hong, PF Zhou, B Xi, J Hu, AC Ji, SJ Ran - SciPost Physics Core, 2021 - scipost.org',\n",
       "  'snippet': 'The hybridizations of machine learning and quantum physics have caused essential impacts to the methodology in both fields. Inspired by quantum potential neural network, we here …',\n",
       "  'cited_by': 'https://scholar.google.com/scholar?cites=267322141856673560&as_sdt=5,36&sciodt=0,36&hl=en',\n",
       "  'related_versions': 'https://scholar.google.com/scholar?q=related:GK_2WRK4tQMJ:scholar.google.com/&scioq=Sehanobish+Corzo+Kara&hl=en&as_sdt=0,36'},\n",
       " 'Emojich--zero-shot emoji generation using Russian language: a technical report': {'title': 'Emojich--zero-shot emoji generation using Russian language: a technical report',\n",
       "  'publication_info': 'A Shonenkov, D Bakshandaeva, D Dimitrov… - arXiv preprint arXiv …, 2021 - arxiv.org',\n",
       "  'snippet': 'This technical report presents a text-to-image neural network \"Emojich\" that generates emojis using captions in Russian language as a condition. We aim to keep the generalization …',\n",
       "  'cited_by': 'NA',\n",
       "  'related_versions': 'https://scholar.google.com/scholar?q=related:2l6atLb7x-oJ:scholar.google.com/&scioq=Sehanobish+Corzo+Kara&hl=en&as_sdt=0,36'},\n",
       " 'Deep learning Local Reduced Density Matrices for Many-body Hamiltonian Estimation': {'title': 'Deep learning Local Reduced Density Matrices for Many-body Hamiltonian Estimation',\n",
       "  'publication_info': 'X Ma, ZC Tu, SJ Ran - arXiv preprint arXiv:2012.03019, 2020 - arxiv.org',\n",
       "  'snippet': '… Sehanobish et al proposed the quantum potential neural networks to reconstruct the … Kara, and D. van Dijk, Learning potentials of quantum systems using deep neural networks, arXiv …',\n",
       "  'cited_by': 'NA',\n",
       "  'related_versions': 'https://scholar.google.com/scholar?q=related:LpzVvKoMAf8J:scholar.google.com/&scioq=Sehanobish+Corzo+Kara&hl=en&as_sdt=0,36'},\n",
       " 'Neural Network Approach to Construction of Classical Integrable Systems': {'title': 'Neural Network Approach to Construction of Classical Integrable Systems',\n",
       "  'publication_info': 'F Ishikawa, H Suwa, S Todo - Journal of the Physical Society of …, 2021 - journals.jps.jp',\n",
       "  'snippet': 'Integrable systems have provided various insights into physical phenomena and mathematics. The way of constructing many-body integrable systems is limited to few ansatzes for the …',\n",
       "  'cited_by': 'NA',\n",
       "  'related_versions': 'https://scholar.google.com/scholar?q=related:1dYi3dooLkwJ:scholar.google.com/&scioq=Sehanobish+Corzo+Kara&hl=en&as_sdt=0,36'},\n",
       " 'Functional tensor network solving many-body Schrödinger equation': {'title': 'Functional tensor network solving many-body Schrödinger equation',\n",
       "  'publication_info': 'R Hong, YX Xiao, J Hu, AC Ji, SJ Ran - Physical Review B, 2022 - APS',\n",
       "  'snippet': 'Solving the many-body Schrödinger equation in continuous spaces with the presence of strong correlations is an extremely important and challenging issue in quantum physics. In this …',\n",
       "  'cited_by': 'NA',\n",
       "  'related_versions': 'NA'}}"
      ]
     },
     "execution_count": 319,
     "metadata": {},
     "output_type": "execute_result"
    }
   ],
   "source": [
    "p.query=\"Sehanobish Corzo Kara\"\n",
    "p.serpapi_scrape_organic_results()"
   ]
  },
  {
   "cell_type": "code",
   "execution_count": 292,
   "id": "511c59cc",
   "metadata": {},
   "outputs": [
    {
     "name": "stdout",
     "output_type": "stream",
     "text": [
      "https://serpapi.com/search\n"
     ]
    },
    {
     "data": {
      "text/plain": [
       "{'Onur Kara': {'name': 'Onur Kara',\n",
       "  'link': 'https://scholar.google.com/citations?hl=en&user=IzsyeRAAAAAJ',\n",
       "  'serpapi_link': 'https://serpapi.com/search.json?author_id=IzsyeRAAAAAJ&engine=google_scholar_author&hl=en',\n",
       "  'author_id': 'IzsyeRAAAAAJ',\n",
       "  'affiliations': 'Hindsight Technology Solutions',\n",
       "  'email': 'Verified email at hindsightsolutions.net',\n",
       "  'cited_by': 8,\n",
       "  'interests': [{'title': 'network science',\n",
       "    'serpapi_link': 'https://serpapi.com/search.json?engine=google_scholar_profiles&hl=en&mauthors=label%3Anetwork_science',\n",
       "    'link': 'https://scholar.google.com/citations?hl=en&view_op=search_authors&mauthors=label:network_science'},\n",
       "   {'title': 'machine learning',\n",
       "    'serpapi_link': 'https://serpapi.com/search.json?engine=google_scholar_profiles&hl=en&mauthors=label%3Amachine_learning',\n",
       "    'link': 'https://scholar.google.com/citations?hl=en&view_op=search_authors&mauthors=label:machine_learning'},\n",
       "   {'title': 'statistical physics',\n",
       "    'serpapi_link': 'https://serpapi.com/search.json?engine=google_scholar_profiles&hl=en&mauthors=label%3Astatistical_physics',\n",
       "    'link': 'https://scholar.google.com/citations?hl=en&view_op=search_authors&mauthors=label:statistical_physics'},\n",
       "   {'title': 'data science',\n",
       "    'serpapi_link': 'https://serpapi.com/search.json?engine=google_scholar_profiles&hl=en&mauthors=label%3Adata_science',\n",
       "    'link': 'https://scholar.google.com/citations?hl=en&view_op=search_authors&mauthors=label:data_science'},\n",
       "   {'title': 'computational science',\n",
       "    'serpapi_link': 'https://serpapi.com/search.json?engine=google_scholar_profiles&hl=en&mauthors=label%3Acomputational_science',\n",
       "    'link': 'https://scholar.google.com/citations?hl=en&view_op=search_authors&mauthors=label:computational_science'}],\n",
       "  'thumbnail': 'https://scholar.googleusercontent.com/citations?view_op=small_photo&user=IzsyeRAAAAAJ&citpid=2'}}"
      ]
     },
     "execution_count": 292,
     "metadata": {},
     "output_type": "execute_result"
    }
   ],
   "source": [
    "p.mauthors=\"kara, onur\"\n",
    "p.affiliations=\"Hindsight Technology Solutions\"\n",
    "p.serpapi_author_profile()"
   ]
  },
  {
   "cell_type": "code",
   "execution_count": 320,
   "id": "91724552",
   "metadata": {},
   "outputs": [
    {
     "name": "stdout",
     "output_type": "stream",
     "text": [
      "https://serpapi.com/search\n"
     ]
    }
   ],
   "source": [
    "p.query=\"Sehanobish Corzo Kara\"\n",
    "all_info = p.serpapi_scrape_organic_results()"
   ]
  },
  {
   "cell_type": "code",
   "execution_count": 321,
   "id": "05bce9bf",
   "metadata": {},
   "outputs": [
    {
     "data": {
      "text/plain": [
       "{'Learning potentials of quantum systems using deep neural networks': {'title': 'Learning potentials of quantum systems using deep neural networks',\n",
       "  'publication_info': 'A Sehanobish, HH Corzo, O Kara… - arXiv preprint arXiv …, 2020 - arxiv.org',\n",
       "  'snippet': 'Attempts to apply Neural Networks (NN) to a wide range of research problems have been ubiquitous and plentiful in recent literature. Particularly, the use of deep NNs for understanding …',\n",
       "  'cited_by': 'https://scholar.google.com/scholar?cites=11804469877329258063&as_sdt=5,36&sciodt=0,36&hl=en',\n",
       "  'related_versions': 'https://scholar.google.com/scholar?q=related:T2YCiM_m0aMJ:scholar.google.com/&scioq=Sehanobish+Corzo+Kara&hl=en&as_sdt=0,36'},\n",
       " 'Fine-tuning Vision Transformers for the Prediction of State Variables in Ising Models': {'title': 'Fine-tuning Vision Transformers for the Prediction of State Variables in Ising Models',\n",
       "  'publication_info': 'O Kara, A Sehanobish, HH Corzo - arXiv preprint arXiv:2109.13925, 2021 - arxiv.org',\n",
       "  'snippet': 'Transformers are state-of-the-art deep learning models that are composed of stacked attention and point-wise, fully connected layers designed for handling sequential data. …',\n",
       "  'cited_by': 'https://scholar.google.com/scholar?cites=14144613611479670813&as_sdt=5,36&sciodt=0,36&hl=en',\n",
       "  'related_versions': 'https://scholar.google.com/scholar?q=related:HaBmZSPDS8QJ:scholar.google.com/&scioq=Sehanobish+Corzo+Kara&hl=en&as_sdt=0,36'},\n",
       " 'Application of the Quantum Potential Neural Network to multi-electronic atoms': {'title': 'Application of the Quantum Potential Neural Network to multi-electronic atoms',\n",
       "  'publication_info': 'HH Corzo, A Sehanobish, O Kara - arXiv preprint arXiv:2106.08138, 2021 - arxiv.org',\n",
       "  'snippet': 'In this report, the application of the Quantum Potential Neural Network (QPNN) framework to many electron atomic systems is presented. For this study, full configuration interaction (FCI) …',\n",
       "  'cited_by': 'NA',\n",
       "  'related_versions': 'https://scholar.google.com/scholar?q=related:BbCbqVJC0rQJ:scholar.google.com/&scioq=Sehanobish+Corzo+Kara&hl=en&as_sdt=0,36'},\n",
       " 'Learning Full Configuration Interaction Electron Correlations with Deep Learning': {'title': 'Learning Full Configuration Interaction Electron Correlations with Deep Learning',\n",
       "  'publication_info': 'HH Corzo, A Sehanobish, O Kara - ml4physicalsciences.github.io',\n",
       "  'snippet': 'In this report, we present a deep learning framework termed the Electron Correlation Potential Neural Network (eCPNN) that can learn succinct and compact potential functions. These …',\n",
       "  'cited_by': 'NA',\n",
       "  'related_versions': 'https://scholar.google.com/scholar?q=related:mh2XCm7p1YYJ:scholar.google.com/&scioq=Sehanobish+Corzo+Kara&hl=en&as_sdt=0,36'},\n",
       " 'Deep Learning Quantum States for Hamiltonian Estimation': {'title': 'Deep Learning Quantum States for Hamiltonian Estimation',\n",
       "  'publication_info': 'X Ma, ZC Tu, SJ Ran - Chinese Physics Letters, 2021 - iopscience.iop.org',\n",
       "  'snippet': 'Human experts cannot efficiently access physical information of a quantum many-body states by simply\" reading\" its coefficients, but have to reply on the previous knowledge such as …',\n",
       "  'cited_by': 'https://scholar.google.com/scholar?cites=13935163193403524492&as_sdt=5,36&sciodt=0,36&hl=en',\n",
       "  'related_versions': 'https://scholar.google.com/scholar?q=related:jEXqvRelY8EJ:scholar.google.com/&scioq=Sehanobish+Corzo+Kara&hl=en&as_sdt=0,36'},\n",
       " 'Predicting quantum potentials by deep neural network and metropolis sampling': {'title': 'Predicting quantum potentials by deep neural network and metropolis sampling',\n",
       "  'publication_info': 'R Hong, PF Zhou, B Xi, J Hu, AC Ji, SJ Ran - SciPost Physics Core, 2021 - scipost.org',\n",
       "  'snippet': 'The hybridizations of machine learning and quantum physics have caused essential impacts to the methodology in both fields. Inspired by quantum potential neural network, we here …',\n",
       "  'cited_by': 'https://scholar.google.com/scholar?cites=267322141856673560&as_sdt=5,36&sciodt=0,36&hl=en',\n",
       "  'related_versions': 'https://scholar.google.com/scholar?q=related:GK_2WRK4tQMJ:scholar.google.com/&scioq=Sehanobish+Corzo+Kara&hl=en&as_sdt=0,36'},\n",
       " 'Emojich--zero-shot emoji generation using Russian language: a technical report': {'title': 'Emojich--zero-shot emoji generation using Russian language: a technical report',\n",
       "  'publication_info': 'A Shonenkov, D Bakshandaeva, D Dimitrov… - arXiv preprint arXiv …, 2021 - arxiv.org',\n",
       "  'snippet': 'This technical report presents a text-to-image neural network \"Emojich\" that generates emojis using captions in Russian language as a condition. We aim to keep the generalization …',\n",
       "  'cited_by': 'NA',\n",
       "  'related_versions': 'https://scholar.google.com/scholar?q=related:2l6atLb7x-oJ:scholar.google.com/&scioq=Sehanobish+Corzo+Kara&hl=en&as_sdt=0,36'},\n",
       " 'Deep learning Local Reduced Density Matrices for Many-body Hamiltonian Estimation': {'title': 'Deep learning Local Reduced Density Matrices for Many-body Hamiltonian Estimation',\n",
       "  'publication_info': 'X Ma, ZC Tu, SJ Ran - arXiv preprint arXiv:2012.03019, 2020 - arxiv.org',\n",
       "  'snippet': '… Sehanobish et al proposed the quantum potential neural networks to reconstruct the … Kara, and D. van Dijk, Learning potentials of quantum systems using deep neural networks, arXiv …',\n",
       "  'cited_by': 'NA',\n",
       "  'related_versions': 'https://scholar.google.com/scholar?q=related:LpzVvKoMAf8J:scholar.google.com/&scioq=Sehanobish+Corzo+Kara&hl=en&as_sdt=0,36'},\n",
       " 'Neural Network Approach to Construction of Classical Integrable Systems': {'title': 'Neural Network Approach to Construction of Classical Integrable Systems',\n",
       "  'publication_info': 'F Ishikawa, H Suwa, S Todo - Journal of the Physical Society of …, 2021 - journals.jps.jp',\n",
       "  'snippet': 'Integrable systems have provided various insights into physical phenomena and mathematics. The way of constructing many-body integrable systems is limited to few ansatzes for the …',\n",
       "  'cited_by': 'NA',\n",
       "  'related_versions': 'https://scholar.google.com/scholar?q=related:1dYi3dooLkwJ:scholar.google.com/&scioq=Sehanobish+Corzo+Kara&hl=en&as_sdt=0,36'},\n",
       " 'Functional tensor network solving many-body Schrödinger equation': {'title': 'Functional tensor network solving many-body Schrödinger equation',\n",
       "  'publication_info': 'R Hong, YX Xiao, J Hu, AC Ji, SJ Ran - Physical Review B, 2022 - APS',\n",
       "  'snippet': 'Solving the many-body Schrödinger equation in continuous spaces with the presence of strong correlations is an extremely important and challenging issue in quantum physics. In this …',\n",
       "  'cited_by': 'NA',\n",
       "  'related_versions': 'NA'}}"
      ]
     },
     "execution_count": 321,
     "metadata": {},
     "output_type": "execute_result"
    }
   ],
   "source": [
    "all_info\n"
   ]
  },
  {
   "cell_type": "code",
   "execution_count": 293,
   "id": "056f7632",
   "metadata": {},
   "outputs": [],
   "source": [
    "p.query_list = [\"Sehanobish Corzo Kara\", \"Learning potentials of quantum systems using deep neural networks\", \"2006.13297\"]"
   ]
  },
  {
   "cell_type": "code",
   "execution_count": 294,
   "id": "9bd2a177",
   "metadata": {},
   "outputs": [
    {
     "data": {
      "text/plain": [
       "['Sehanobish Corzo Kara',\n",
       " 'Learning potentials of quantum systems using deep neural networks',\n",
       " '2006.13297']"
      ]
     },
     "execution_count": 294,
     "metadata": {},
     "output_type": "execute_result"
    }
   ],
   "source": [
    "p.query_list"
   ]
  },
  {
   "cell_type": "code",
   "execution_count": 295,
   "id": "f675df9b",
   "metadata": {},
   "outputs": [],
   "source": [
    "p.save_to_csv = True"
   ]
  },
  {
   "cell_type": "code",
   "execution_count": 296,
   "id": "5af9d924",
   "metadata": {},
   "outputs": [
    {
     "ename": "Exception",
     "evalue": "requests response for url query: https://scholar.google.com/scholar?hl=en&as_sdt=0%2C5&q=Sehanobish Corzo Kara&btnG= returned 429 response -- check google hasn't blocked your IP",
     "output_type": "error",
     "traceback": [
      "\u001b[0;31m---------------------------------------------------------------------------\u001b[0m",
      "\u001b[0;31mException\u001b[0m                                 Traceback (most recent call last)",
      "\u001b[0;32m/var/folders/sd/1vc_q83x5rn9jjrd0x47_cc00000gn/T/ipykernel_63375/1250562138.py\u001b[0m in \u001b[0;36m<module>\u001b[0;34m\u001b[0m\n\u001b[0;32m----> 1\u001b[0;31m \u001b[0mp\u001b[0m\u001b[0;34m.\u001b[0m\u001b[0mscholar_search\u001b[0m\u001b[0;34m(\u001b[0m\u001b[0;34m)\u001b[0m\u001b[0;34m\u001b[0m\u001b[0;34m\u001b[0m\u001b[0m\n\u001b[0m",
      "\u001b[0;32m/var/folders/sd/1vc_q83x5rn9jjrd0x47_cc00000gn/T/ipykernel_63375/239751259.py\u001b[0m in \u001b[0;36mscholar_search\u001b[0;34m(self)\u001b[0m\n\u001b[1;32m    126\u001b[0m                 \u001b[0mstatuscode\u001b[0m\u001b[0;34m=\u001b[0m\u001b[0mresponse\u001b[0m\u001b[0;34m.\u001b[0m\u001b[0mstatus_code\u001b[0m\u001b[0;34m\u001b[0m\u001b[0;34m\u001b[0m\u001b[0m\n\u001b[1;32m    127\u001b[0m                 \u001b[0;32mif\u001b[0m \u001b[0mstatuscode\u001b[0m \u001b[0;34m!=\u001b[0m \u001b[0;36m200\u001b[0m\u001b[0;34m:\u001b[0m\u001b[0;34m\u001b[0m\u001b[0;34m\u001b[0m\u001b[0m\n\u001b[0;32m--> 128\u001b[0;31m                     \u001b[0;32mraise\u001b[0m \u001b[0mException\u001b[0m\u001b[0;34m(\u001b[0m\u001b[0;34mf\"requests response for url query: {url} returned {statuscode} response -- check google hasn't blocked your IP\"\u001b[0m\u001b[0;34m)\u001b[0m\u001b[0;34m\u001b[0m\u001b[0;34m\u001b[0m\u001b[0m\n\u001b[0m\u001b[1;32m    129\u001b[0m                     \u001b[0;32mreturn\u001b[0m\u001b[0;34m\u001b[0m\u001b[0;34m\u001b[0m\u001b[0m\n\u001b[1;32m    130\u001b[0m                 \u001b[0msoup\u001b[0m\u001b[0;34m=\u001b[0m\u001b[0mBeautifulSoup\u001b[0m\u001b[0;34m(\u001b[0m\u001b[0mresponse\u001b[0m\u001b[0;34m.\u001b[0m\u001b[0mcontent\u001b[0m\u001b[0;34m,\u001b[0m\u001b[0;34m'lxml'\u001b[0m\u001b[0;34m)\u001b[0m\u001b[0;34m\u001b[0m\u001b[0;34m\u001b[0m\u001b[0m\n",
      "\u001b[0;31mException\u001b[0m: requests response for url query: https://scholar.google.com/scholar?hl=en&as_sdt=0%2C5&q=Sehanobish Corzo Kara&btnG= returned 429 response -- check google hasn't blocked your IP"
     ]
    }
   ],
   "source": [
    "p.scholar_search()"
   ]
  },
  {
   "cell_type": "code",
   "execution_count": 297,
   "id": "4fff92af",
   "metadata": {},
   "outputs": [],
   "source": [
    "p.return_output_object= True"
   ]
  },
  {
   "cell_type": "code",
   "execution_count": 298,
   "id": "d23ed32e",
   "metadata": {},
   "outputs": [
    {
     "ename": "Exception",
     "evalue": "requests response for url query: https://scholar.google.com/scholar?hl=en&as_sdt=0%2C5&q=Sehanobish Corzo Kara&btnG= returned 429 response -- check google hasn't blocked your IP",
     "output_type": "error",
     "traceback": [
      "\u001b[0;31m---------------------------------------------------------------------------\u001b[0m",
      "\u001b[0;31mException\u001b[0m                                 Traceback (most recent call last)",
      "\u001b[0;32m/var/folders/sd/1vc_q83x5rn9jjrd0x47_cc00000gn/T/ipykernel_63375/916437473.py\u001b[0m in \u001b[0;36m<module>\u001b[0;34m\u001b[0m\n\u001b[0;32m----> 1\u001b[0;31m \u001b[0mresults\u001b[0m \u001b[0;34m=\u001b[0m \u001b[0mp\u001b[0m\u001b[0;34m.\u001b[0m\u001b[0mscholar_search\u001b[0m\u001b[0;34m(\u001b[0m\u001b[0;34m)\u001b[0m\u001b[0;34m\u001b[0m\u001b[0;34m\u001b[0m\u001b[0m\n\u001b[0m",
      "\u001b[0;32m/var/folders/sd/1vc_q83x5rn9jjrd0x47_cc00000gn/T/ipykernel_63375/239751259.py\u001b[0m in \u001b[0;36mscholar_search\u001b[0;34m(self)\u001b[0m\n\u001b[1;32m    126\u001b[0m                 \u001b[0mstatuscode\u001b[0m\u001b[0;34m=\u001b[0m\u001b[0mresponse\u001b[0m\u001b[0;34m.\u001b[0m\u001b[0mstatus_code\u001b[0m\u001b[0;34m\u001b[0m\u001b[0;34m\u001b[0m\u001b[0m\n\u001b[1;32m    127\u001b[0m                 \u001b[0;32mif\u001b[0m \u001b[0mstatuscode\u001b[0m \u001b[0;34m!=\u001b[0m \u001b[0;36m200\u001b[0m\u001b[0;34m:\u001b[0m\u001b[0;34m\u001b[0m\u001b[0;34m\u001b[0m\u001b[0m\n\u001b[0;32m--> 128\u001b[0;31m                     \u001b[0;32mraise\u001b[0m \u001b[0mException\u001b[0m\u001b[0;34m(\u001b[0m\u001b[0;34mf\"requests response for url query: {url} returned {statuscode} response -- check google hasn't blocked your IP\"\u001b[0m\u001b[0;34m)\u001b[0m\u001b[0;34m\u001b[0m\u001b[0;34m\u001b[0m\u001b[0m\n\u001b[0m\u001b[1;32m    129\u001b[0m                     \u001b[0;32mreturn\u001b[0m\u001b[0;34m\u001b[0m\u001b[0;34m\u001b[0m\u001b[0m\n\u001b[1;32m    130\u001b[0m                 \u001b[0msoup\u001b[0m\u001b[0;34m=\u001b[0m\u001b[0mBeautifulSoup\u001b[0m\u001b[0;34m(\u001b[0m\u001b[0mresponse\u001b[0m\u001b[0;34m.\u001b[0m\u001b[0mcontent\u001b[0m\u001b[0;34m,\u001b[0m\u001b[0;34m'lxml'\u001b[0m\u001b[0;34m)\u001b[0m\u001b[0;34m\u001b[0m\u001b[0;34m\u001b[0m\u001b[0m\n",
      "\u001b[0;31mException\u001b[0m: requests response for url query: https://scholar.google.com/scholar?hl=en&as_sdt=0%2C5&q=Sehanobish Corzo Kara&btnG= returned 429 response -- check google hasn't blocked your IP"
     ]
    }
   ],
   "source": [
    "results = p.scholar_search()"
   ]
  },
  {
   "cell_type": "code",
   "execution_count": null,
   "id": "c205ff58",
   "metadata": {},
   "outputs": [],
   "source": []
  },
  {
   "cell_type": "code",
   "execution_count": null,
   "id": "f0be0658",
   "metadata": {},
   "outputs": [],
   "source": []
  },
  {
   "cell_type": "code",
   "execution_count": 307,
   "id": "6b05d245",
   "metadata": {},
   "outputs": [],
   "source": []
  },
  {
   "cell_type": "code",
   "execution_count": 308,
   "id": "9df1a06a",
   "metadata": {},
   "outputs": [
    {
     "name": "stdout",
     "output_type": "stream",
     "text": [
      "https://serpapi.com/search\n"
     ]
    }
   ],
   "source": []
  },
  {
   "cell_type": "code",
   "execution_count": 310,
   "id": "82bddc6c",
   "metadata": {},
   "outputs": [
    {
     "data": {
      "text/plain": [
       "10"
      ]
     },
     "execution_count": 310,
     "metadata": {},
     "output_type": "execute_result"
    }
   ],
   "source": []
  },
  {
   "cell_type": "code",
   "execution_count": null,
   "id": "ff317d78",
   "metadata": {},
   "outputs": [],
   "source": []
  },
  {
   "cell_type": "code",
   "execution_count": null,
   "id": "2adbe96b",
   "metadata": {},
   "outputs": [],
   "source": []
  }
 ],
 "metadata": {
  "kernelspec": {
   "display_name": "Python 3 (ipykernel)",
   "language": "python",
   "name": "python3"
  },
  "language_info": {
   "codemirror_mode": {
    "name": "ipython",
    "version": 3
   },
   "file_extension": ".py",
   "mimetype": "text/x-python",
   "name": "python",
   "nbconvert_exporter": "python",
   "pygments_lexer": "ipython3",
   "version": "3.9.10"
  }
 },
 "nbformat": 4,
 "nbformat_minor": 5
}
